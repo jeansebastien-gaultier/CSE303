{
 "cells": [
  {
   "cell_type": "markdown",
   "id": "84df003d-f5e7-42e2-b818-6fd8d25e5a7c",
   "metadata": {},
   "source": [
    "# Building Simulator\n",
    "\n",
    "Following the meeting last week we have found two ways to specify in a flexible manner.\n",
    "\n",
    "- First idea (from the meeting), work with REGULAR expressions.\n",
    "\n",
    "- Second idea (still a little long), work with user input."
   ]
  },
  {
   "cell_type": "markdown",
   "id": "f1638587-a1ef-4068-9d96-013ec9e4e529",
   "metadata": {},
   "source": [
    "## Regular Expressions"
   ]
  },
  {
   "cell_type": "code",
   "execution_count": null,
   "id": "d44c43a0-d78f-4522-b66f-1ea7dff8cfa0",
   "metadata": {},
   "outputs": [],
   "source": []
  },
  {
   "cell_type": "markdown",
   "id": "66f4d919-3dee-41a4-abb4-05c46b9b6a5c",
   "metadata": {},
   "source": [
    "## User Input\n",
    "\n",
    "The idea here is to have methods that are very global and not that many, and how do we specify, we have user input directly into the system.\n",
    "\n",
    "The idea is to have a direct link USER $\\Leftrightarrow$ SYSTEM link"
   ]
  },
  {
   "cell_type": "code",
   "execution_count": null,
   "id": "726131c2-fd17-4c58-815d-2ad534527320",
   "metadata": {},
   "outputs": [],
   "source": []
  }
 ],
 "metadata": {
  "kernelspec": {
   "display_name": "JS_venv_data_science_1",
   "language": "python",
   "name": "js_venv_data_science_1"
  },
  "language_info": {
   "codemirror_mode": {
    "name": "ipython",
    "version": 3
   },
   "file_extension": ".py",
   "mimetype": "text/x-python",
   "name": "python",
   "nbconvert_exporter": "python",
   "pygments_lexer": "ipython3",
   "version": "3.8.11"
  }
 },
 "nbformat": 4,
 "nbformat_minor": 5
}
