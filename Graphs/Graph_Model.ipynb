{
 "cells": [
  {
   "cell_type": "markdown",
   "id": "345bab43-440e-4994-a958-5327f810403f",
   "metadata": {},
   "source": [
    "# Building a Graph Model\n",
    "\n",
    "For the case of our project.\n",
    "\n",
    "We will assume that our system is a system of blinky blocks, hence we will only work with the attributes associated to these blocks (charge, speaker, lights, ...).\n",
    "\n",
    "The idea is to simulate the system and understand how it works.\n",
    "\n",
    "Once the system is understood, we must work on the research aspect:\n",
    "\n",
    "- How do specify what node to work on?\n",
    "- How do we specify the attributes to modify?\n",
    "- How do we specify the quesries?\n",
    "\n",
    "These questions will be answered by understanding how to build a \"Query Language\"."
   ]
  },
  {
   "cell_type": "code",
   "execution_count": 3,
   "id": "97484f82-0e66-4f4d-91b1-cddbad616f87",
   "metadata": {},
   "outputs": [],
   "source": [
    "import pandas as pd\n",
    "import random\n",
    "import networkx as nx\n",
    "import pyvis\n",
    "from pyvis.network import Network"
   ]
  },
  {
   "cell_type": "markdown",
   "id": "49eda64a-c1c7-4016-9c94-890457c3ea4f",
   "metadata": {},
   "source": [
    "## Part 1: Build the Node Dataset\n",
    "\n",
    "Building a DataSet where we will have all the nodes and the attribute values associated.\n",
    "\n",
    "We also want to be able to add nodes to our system. Hence, we will add functions to take care of this."
   ]
  },
  {
   "cell_type": "code",
   "execution_count": 15,
   "id": "5087d2df-f7d7-48e0-98a8-b07f42f20357",
   "metadata": {},
   "outputs": [],
   "source": [
    "class Node:\n",
    "    def __init__(self, node_num, location, charge = 100, speaker = 100, light = 100, neighbors = ()):\n",
    "        self.node_num = node_num\n",
    "        self.location = location\n",
    "        self.charge = charge\n",
    "        self.speaker = speaker\n",
    "        self.light = light\n",
    "        self.neighbors = neighbors\n",
    "        \n",
    "    def node_values(self):\n",
    "        return self.node_num, self.charge, self.speaker, self.light, self.neighbors\n",
    "\n",
    "class DataBase:\n",
    "    def __init__(self):\n",
    "        self.dictionnary = {\"node #\":[], \"charge\":[], \"speaker\":[], \"light\":[], \"neighbors\":[]}\n",
    "    \n",
    "    def database_df(self):\n",
    "        return pd.DataFrame.from_dict(self.dictionnary)\n",
    "    \n",
    "    def node_into_db(self, Node):\n",
    "        nn,c,s,l,n = Node.node_values()\n",
    "        self.dictionnary[\"node #\"].append(nn)\n",
    "        self.dictionnary[\"charge\"].append(c)\n",
    "        self.dictionnary[\"speaker\"].append(s)\n",
    "        self.dictionnary[\"light\"].append(l)\n",
    "        self.dictionnary[\"neighbors\"].append(n)\n",
    "\n",
    "        "
   ]
  },
  {
   "cell_type": "markdown",
   "id": "d1e0420c-da3d-4bfb-9d2e-24c216d4323b",
   "metadata": {},
   "source": [
    "## Part 2: Visualizing System\n",
    "\n",
    "Using Python libraries we find online, we will be able to visualize our system.\n",
    "Hopefully the visualization will help us with understanding which node to control or which one should be associated to which, or answer further questions."
   ]
  },
  {
   "cell_type": "code",
   "execution_count": 50,
   "id": "ef9cb0f0-c140-4659-8a9e-5b579f4c8ca3",
   "metadata": {},
   "outputs": [
    {
     "name": "stdout",
     "output_type": "stream",
     "text": [
      "Local cdn resources have problems on chrome/safari when used in jupyter-notebook. \n"
     ]
    }
   ],
   "source": [
    "# Build\n",
    "DB = DataBase()\n",
    "n=10\n",
    "for _ in [x for x in range(30)]:\n",
    "    rd = random.randint(0,n)\n",
    "    neighbor = random.randint(0,n)\n",
    "    if neighbor != rd:\n",
    "        node = Node(rd, neighbors = neighbor)\n",
    "        DB.node_into_db(node)\n",
    "\n",
    "df = DB.database_df()\n",
    "G = nx.from_pandas_edgelist(df, source = 'node #', target = 'neighbors')\n",
    "\n",
    "net = Network(notebook = True)\n",
    "net.from_nx(G)\n",
    "#net.show(\"example.html\")"
   ]
  },
  {
   "cell_type": "markdown",
   "id": "298c7ea3-d963-4de1-8b02-a5c17b9596ed",
   "metadata": {},
   "source": [
    "## Part 3: Queries on the system\n",
    "\n",
    "- Start with the more basic queries about the individual nodes\n",
    "- Query regarding the neighbors (distance, # neighbors, ...)\n",
    "\n",
    "- More complex queries (every other node, all nodes to the East)"
   ]
  },
  {
   "cell_type": "code",
   "execution_count": null,
   "id": "6cb8bddd-2358-4b35-9148-ad05810853b6",
   "metadata": {},
   "outputs": [],
   "source": [
    "# Helper functions\n",
    "\n",
    "def euclidean_distance(node1, node2):\n",
    "    '''\n",
    "    Return the Euclidean distance between two nodes\n",
    "    '''\n",
    "    return\n",
    "\n",
    "def get_angle(node1, node2):\n",
    "    '''\n",
    "    Return the angle created between two nodes\n",
    "    '''\n",
    "    return"
   ]
  },
  {
   "cell_type": "code",
   "execution_count": null,
   "id": "e4267620-93ee-4f61-aca4-5d9fc2755d22",
   "metadata": {},
   "outputs": [],
   "source": [
    "# Individual Queries\n",
    "\n",
    "def add_attribute(node):\n",
    "    '''\n",
    "    Given a specific node, add an attribute of our choice and assign a value\n",
    "    '''\n",
    "    return \n",
    "\n",
    "def request_attribute(node, attribute):\n",
    "    '''\n",
    "    Given a specific node and an attribute, return the value of such attribute\n",
    "    '''\n",
    "    return\n",
    "\n",
    "def closest_neighbors_attributes(node, attribute, k, type_res, val = 0, past = []):\n",
    "    '''\n",
    "    Important make sure we do not go through same node twice\n",
    "    '''\n",
    "    if type_res == 'mean':\n",
    "    elif type_res == 'min':\n",
    "    elif type_res == 'max':\n",
    "    elif type_res == 'sum':\n",
    "    return\n",
    "\n",
    "def every_other_neighbor(node, attribute, k, val = 0):\n",
    "    '''\n",
    "    Get specific information about every other neighbor node\n",
    "    '''\n",
    "    return\n",
    "\n",
    "def neighbor_to_a_direction(node, direction):\n",
    "    '''\n",
    "    Given a specific direction, return a list of neighbors in the direction\n",
    "    '''\n",
    "    return\n",
    "\n",
    "def how_many_neighbors_to_a_direction(node, direction, val = 0):\n",
    "    '''\n",
    "    Find the number of nodes in a specific path\n",
    "    '''\n",
    "    return\n",
    "\n",
    "# Idea, we can make simple methods like \"neighbor_to_a_direction\", and then build a function that would\n",
    "# combine multiple functions to make the queries more flexible"
   ]
  },
  {
   "cell_type": "code",
   "execution_count": null,
   "id": "0946a369-dfac-4ed9-a6dc-e09410eda046",
   "metadata": {},
   "outputs": [],
   "source": [
    "# Group Queries\n",
    "# A mix between individual queries and action queries\n",
    "\n",
    "def similar_nodes(system, attribute):\n",
    "    '''\n",
    "    Check all the nodes (neighbors or not) that have similar attributes\n",
    "    '''\n",
    "    return\n",
    "\n",
    "def change_similar_node_attributes(system, attribute):\n",
    "    '''\n",
    "    \n",
    "    '''\n",
    "    return\n",
    "\n",
    "def form_a_group(system):\n",
    "    return\n",
    "\n",
    "class Group(DataBase):\n",
    "    '''\n",
    "    Subclass of the DataBase class, it is just a smaller group based on different characteristics\n",
    "    '''\n",
    "    def __init__(self):\n",
    "        return\n",
    "    \n",
    "def modify_group_attribute(group, attribute):\n",
    "    return\n"
   ]
  },
  {
   "cell_type": "code",
   "execution_count": null,
   "id": "501e15b8-cf50-4f39-910d-8cbbdd6d2cee",
   "metadata": {},
   "outputs": [],
   "source": [
    "# Action Queries\n",
    "\n",
    "def modify_attribute(node):\n",
    "    return\n",
    "\n",
    "def move_node(node):\n",
    "    return\n",
    "\n",
    "def modify_along_a_path(node, attribute, path):\n",
    "    return"
   ]
  },
  {
   "cell_type": "code",
   "execution_count": null,
   "id": "9df718f4-40b5-46a0-8bb1-649e81c1fb82",
   "metadata": {},
   "outputs": [],
   "source": [
    "# Test Run\n",
    "\n",
    "# Get nodes in a system\n",
    "\n",
    "# Add various queries"
   ]
  },
  {
   "cell_type": "markdown",
   "id": "bb19b4f7-d782-4274-ad22-6c8bbd2229c5",
   "metadata": {},
   "source": [
    "## Research Papers about: \"Query Language\"\n",
    "\n",
    "- Foundations of Modern Query Language for graph databases: https://dl.acm.org/doi/pdf/10.1145/3104031\n",
    "- Query Languages for graph databases: https://dl.acm.org/doi/pdf/10.1145/2206869.2206879"
   ]
  },
  {
   "cell_type": "markdown",
   "id": "9383f253-f20b-4a70-9080-bbe2bc745a05",
   "metadata": {},
   "source": [
    "## Analysis\n",
    "\n",
    "The question we are trying to answer: \"How to specify in a flexible manner?\"\n",
    "\n",
    "- First thing we notice, we have methods that are very strict, in the sense that we have to give it specific parameters for it to work.\n",
    "\n",
    "    - We can fix that by either making hundreds of methods that will cover each possible result we want to reach\n",
    "        - Pro: We are able to get all the results we want\n",
    "        - Con: We spend too much time making each individual method, and this is specific to the specific system we are working on (blinky blocks), we want our \"query language\" to work for any system of IoT\n",
    "        \n",
    "    - Second idea: We resort to using NLP\n",
    "        - Pro: This would enable the engineer to write in queries (\"get all blocks east of the node that have their light on\") and then a method could be used based on this request\n",
    "        - Con: Harder to build model using this (little experience)"
   ]
  },
  {
   "cell_type": "code",
   "execution_count": null,
   "id": "ddae8f22-afc1-4608-a3c6-dba32e63e009",
   "metadata": {},
   "outputs": [],
   "source": []
  }
 ],
 "metadata": {
  "kernelspec": {
   "display_name": "JS_venv_data_science_1",
   "language": "python",
   "name": "js_venv_data_science_1"
  },
  "language_info": {
   "codemirror_mode": {
    "name": "ipython",
    "version": 3
   },
   "file_extension": ".py",
   "mimetype": "text/x-python",
   "name": "python",
   "nbconvert_exporter": "python",
   "pygments_lexer": "ipython3",
   "version": "3.8.11"
  }
 },
 "nbformat": 4,
 "nbformat_minor": 5
}
