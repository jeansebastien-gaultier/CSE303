{
 "cells": [
  {
   "cell_type": "markdown",
   "id": "4fca62b9-1278-4bf8-8a20-4308921e3006",
   "metadata": {},
   "source": [
    "# System Simulation"
   ]
  },
  {
   "cell_type": "code",
   "execution_count": 16,
   "id": "57ff5141-b40a-4364-965b-82454e6ff6d9",
   "metadata": {},
   "outputs": [],
   "source": [
    "import random\n",
    "import numpy as np"
   ]
  },
  {
   "cell_type": "markdown",
   "id": "26dbd719-65e5-4cf8-bf9d-ea4d9958ae56",
   "metadata": {},
   "source": [
    "### Part 1:\n",
    "\n",
    "Extend your simulator to include a map (the graph) of block locations and assign blocks to these locations (as opposed to the fixed rectangular matrix of blocks that you have now)"
   ]
  },
  {
   "cell_type": "code",
   "execution_count": 17,
   "id": "22d5a538-cba8-405a-8d2f-f47f8cfc99cc",
   "metadata": {},
   "outputs": [],
   "source": [
    "class Node:\n",
    "    def __init__(self, position, attributes):\n",
    "        self.attributes = attributes\n",
    "        self.position = position\n",
    "        \n",
    "    def modify_attribute(self, key, value):\n",
    "            self.attributes[key] = value\n",
    "            \n",
    "    def add_neighbor(self, neigh, loc):\n",
    "        if 'neighbors' in self.attributes:\n",
    "            self.attributes['neighbors'][loc] = neigh\n",
    "        "
   ]
  },
  {
   "cell_type": "markdown",
   "id": "9f86c48b-82e0-4b56-a852-6e1ceef1b1f6",
   "metadata": {},
   "source": [
    "### Part 2:\n",
    "\n",
    "Add methods for the node of the graph to allow"
   ]
  },
  {
   "cell_type": "code",
   "execution_count": 177,
   "id": "3bf6f7b7-45da-4c28-aafb-33761e4f948a",
   "metadata": {},
   "outputs": [],
   "source": [
    "class Node(Node):\n",
    "    # Querying the assigned block for a given parameter\n",
    "    def get_attribute(self, param):\n",
    "        return self.attributes[param]\n",
    "    \n",
    "    \n",
    "    # This method is used to query for a group, given an attribute, a region, a distance, a operator\n",
    "    def query_neighbors(self, param, distance = np.inf, region = np.inf, op = np.sum, res = [], pos = []):\n",
    "        \"\"\"\n",
    "        Neighbors can be reached by distance, or region\n",
    "        \"\"\"\n",
    "        # Wrong query request\n",
    "        if distance == np.inf and region == np.inf:\n",
    "            return 'INCORRECT query type'\n",
    "        \n",
    "        # Query both by distance and region\n",
    "        if distance != np.inf and region != np.inf:\n",
    "            i=0\n",
    "            flag = True\n",
    "            node = self.attributes\n",
    "            while flag:\n",
    "                if region not in node['neighbors']:\n",
    "                    break\n",
    "                else:\n",
    "                    res.append(node['neighbors'][region].attributes[param])\n",
    "                    node = node['neighbors'][region].attributes\n",
    "                    i+=1\n",
    "                    if i == distance:\n",
    "                        break\n",
    "            return op(res)\n",
    "        \n",
    "        # Query just based on distance\n",
    "        if distance != np.inf:\n",
    "            for reg, node in self.attributes['neighbors'].items():\n",
    "                if distance == 0:\n",
    "                    return node.attributes[param]\n",
    "                else:\n",
    "                    if node.position not in pos:\n",
    "                        pos.append(node.position)\n",
    "                        res.append(node.attributes[param])\n",
    "                    node.query_neighbors(param, distance = distance - 1, res = res, pos = pos)\n",
    "            return op(res)\n",
    "        \n",
    "        # Query just based on region (N, S, E, W)\n",
    "        if region != np.inf:\n",
    "            node = self.attributes\n",
    "            if region not in node['neighbors']: flag = True\n",
    "            else: flag = False\n",
    "            while flag == False:\n",
    "                if region not in node['neighbors']: \n",
    "                    flag = True\n",
    "                    res.append(node[param])\n",
    "                    break\n",
    "                else:\n",
    "                    res.append(node[param])\n",
    "                    node = node['neighbors'][region].attributes\n",
    "            return op(res)  \n",
    "    \n",
    "                \n",
    "        \n",
    "        "
   ]
  },
  {
   "cell_type": "markdown",
   "id": "102aa53f-f3d8-4306-847e-ca5501a9d7ce",
   "metadata": {},
   "source": [
    "## Build the system\n",
    "\n",
    "We follow the system that was set previously as to say as square matrix"
   ]
  },
  {
   "cell_type": "code",
   "execution_count": 178,
   "id": "86d6e76a-65b7-413f-8b60-e99d26fa3d50",
   "metadata": {},
   "outputs": [],
   "source": [
    "# Simulation\n",
    "size = 5\n",
    "ls = []\n",
    "for i in range(size):\n",
    "    for j in range(size):\n",
    "        ls.append((i,j))\n",
    "\n",
    "# Create system \n",
    "system = {}\n",
    "n = {}\n",
    "for element in ls:\n",
    "    system[element]= Node(element, {'light': random.randint(90,100), 'speaker' : random.randint(90,100), 'neighbors':{}})\n",
    "    \n",
    "    \n",
    "# For each node we have added the neighbors\n",
    "for k, v in system.items():\n",
    "    if k[0]+1<size:\n",
    "        v.add_neighbor(system[(k[0]+1,k[1])], 'E')\n",
    "    if k[1]+1<size:\n",
    "        v.add_neighbor(system[(k[0],k[1]+1)], 'N')\n",
    "    if k[0]-1>=0:\n",
    "        v.add_neighbor(system[(k[0]-1,k[1])], 'W')\n",
    "    if k[1]-1>=0:\n",
    "        v.add_neighbor(system[(k[0],k[1]-1)], 'S')"
   ]
  },
  {
   "cell_type": "markdown",
   "id": "77e1857d-e1b3-4092-bc9e-f0ea46a49f81",
   "metadata": {},
   "source": [
    "### Part 3:\n",
    "\n",
    "Create a few examples with fixed values in the blocks and run some queries to get the feeling of it"
   ]
  },
  {
   "cell_type": "code",
   "execution_count": 179,
   "id": "ab43f8c5-b1a6-4e1d-ab45-36b2f844f490",
   "metadata": {},
   "outputs": [],
   "source": [
    "# Add an attribute score to the system and assign it the value 1\n",
    "for ele in system:\n",
    "    system[ele].modify_attribute('score', 1)"
   ]
  },
  {
   "cell_type": "code",
   "execution_count": 180,
   "id": "7dfeedfa-b17a-409a-a807-16e62727478f",
   "metadata": {},
   "outputs": [
    {
     "name": "stdout",
     "output_type": "stream",
     "text": [
      "The light of the node at position (0, 1) is: 96\n",
      "The speaker of the node at position (0, 1) is: 97\n"
     ]
    }
   ],
   "source": [
    "# Get result of light power in specific node in specific position\n",
    "position = (0,1)\n",
    "param = ['light', 'speaker']\n",
    "print(f\"The {param[0]} of the node at position {position} is: {system[position].get_attribute(param[0])}\" )\n",
    "print(f\"The {param[1]} of the node at position {position} is: {system[position].get_attribute(param[1])}\" )"
   ]
  },
  {
   "cell_type": "code",
   "execution_count": 181,
   "id": "2ef9fa12-ce03-4939-b592-dadc9e3be5d1",
   "metadata": {},
   "outputs": [],
   "source": [
    "# Adding attributes to the nodes\n",
    "attributes = ['power', 'speed']\n",
    "for ele in system:\n",
    "    for att in attributes:\n",
    "        system[ele].modify_attribute(att, random.randint(90,100))"
   ]
  },
  {
   "cell_type": "code",
   "execution_count": 182,
   "id": "46523d6c-4bd6-4c19-a087-1081fbecf0a6",
   "metadata": {},
   "outputs": [],
   "source": [
    "# Modify the value of a single node\n",
    "system[(0,0)].modify_attribute('score',0)"
   ]
  },
  {
   "cell_type": "code",
   "execution_count": 183,
   "id": "e3484b2d-84c9-47ba-b698-babd58eeef66",
   "metadata": {},
   "outputs": [
    {
     "data": {
      "text/plain": [
       "5"
      ]
     },
     "execution_count": 183,
     "metadata": {},
     "output_type": "execute_result"
    }
   ],
   "source": [
    "# Query a node based on the region\n",
    "system[(0,0)].query_neighbors('score', region= 'N', res = [])\n",
    "system[(0,1)].query_neighbors('score', region= 'E', res = [])"
   ]
  },
  {
   "cell_type": "code",
   "execution_count": 184,
   "id": "e69d12f1-9b16-4502-b4b3-058a25fd7151",
   "metadata": {},
   "outputs": [
    {
     "data": {
      "text/plain": [
       "21"
      ]
     },
     "execution_count": 184,
     "metadata": {},
     "output_type": "execute_result"
    }
   ],
   "source": [
    "# Query a node based on the distance\n",
    "system[(2,2)].query_neighbors('score', distance = 3, res = [], pos = [(0,0)])"
   ]
  },
  {
   "cell_type": "code",
   "execution_count": 185,
   "id": "8b94646d-0c1d-4094-b31e-588443998300",
   "metadata": {},
   "outputs": [
    {
     "data": {
      "text/plain": [
       "4"
      ]
     },
     "execution_count": 185,
     "metadata": {},
     "output_type": "execute_result"
    }
   ],
   "source": [
    "# Query a node based on distance in a certain direction\n",
    "system[(0,0)].query_neighbors('score', distance = 14, region= 'E', res = [], pos = [(0,0)])"
   ]
  },
  {
   "cell_type": "markdown",
   "id": "ce654171-1492-4be9-8b02-1317041ab2c5",
   "metadata": {},
   "source": [
    "### Part 4:\n",
    "\n",
    "Extend the methods above to allow querying more complex sets"
   ]
  },
  {
   "cell_type": "code",
   "execution_count": 5,
   "id": "637d463f-50ac-417b-b28e-887685d48a1e",
   "metadata": {},
   "outputs": [],
   "source": [
    "# every other node along the path to the East"
   ]
  },
  {
   "cell_type": "code",
   "execution_count": 6,
   "id": "1da99905-1d6e-4ca3-8756-851f4cf367c1",
   "metadata": {},
   "outputs": [],
   "source": [
    "# all neighbours at distance k"
   ]
  },
  {
   "cell_type": "markdown",
   "id": "0647d4d3-0762-46ad-a617-4170000eaa2d",
   "metadata": {},
   "source": [
    "### Part 5:\n",
    "\n",
    "Extend the methods above to allow querying for functions"
   ]
  },
  {
   "cell_type": "code",
   "execution_count": null,
   "id": "a1e3dc1b-6c2b-4935-b717-19d17d3435be",
   "metadata": {},
   "outputs": [],
   "source": []
  },
  {
   "cell_type": "markdown",
   "id": "1b92cbf8-0997-45a9-8f33-dfdff7f7a08d",
   "metadata": {},
   "source": [
    "### Part 6: \n",
    "\n",
    "Add methods to change the values in the blocks"
   ]
  },
  {
   "cell_type": "markdown",
   "id": "43b21766-740e-435f-a776-2e5f93636cc3",
   "metadata": {},
   "source": [
    "### Part 7:\n",
    "\n",
    "Add methods to send commands"
   ]
  },
  {
   "cell_type": "markdown",
   "id": "ca910947-9b3d-4084-a80e-eefc511d2bcd",
   "metadata": {},
   "source": [
    "### Part 8:\n",
    "\n",
    "Add hierarchy of structure"
   ]
  },
  {
   "cell_type": "code",
   "execution_count": null,
   "id": "327721eb-d95a-4cb9-853b-b06b0d81c340",
   "metadata": {},
   "outputs": [],
   "source": []
  }
 ],
 "metadata": {
  "kernelspec": {
   "display_name": "JS_venv_data_science_1",
   "language": "python",
   "name": "js_venv_data_science_1"
  },
  "language_info": {
   "codemirror_mode": {
    "name": "ipython",
    "version": 3
   },
   "file_extension": ".py",
   "mimetype": "text/x-python",
   "name": "python",
   "nbconvert_exporter": "python",
   "pygments_lexer": "ipython3",
   "version": "3.8.11"
  }
 },
 "nbformat": 4,
 "nbformat_minor": 5
}
